{
 "cells": [
  {
   "cell_type": "code",
   "execution_count": null,
   "id": "bb0d6709",
   "metadata": {},
   "outputs": [],
   "source": [
    "\"\"\"\n",
    "This notebook retrieves hydrologic data from snow \n",
    "telemetry networks in the western United States.\n",
    "\n",
    "Authors: Tony Castronova, Irene Garousi-Nejad, Raymond Hess\n",
    "\n",
    "Last modified: 2024-07-19\n",
    "\"\"\""
   ]
  },
  {
   "cell_type": "code",
   "execution_count": null,
   "id": "76fc2291-9985-4f92-98ae-d8313e374808",
   "metadata": {},
   "outputs": [],
   "source": [
    "### Installing dependencies ###\n",
    "!pip install suds"
   ]
  },
  {
   "cell_type": "code",
   "execution_count": null,
   "id": "91821136-7649-440e-a02f-8689c07ef36c",
   "metadata": {},
   "outputs": [],
   "source": [
    "### Importing libraries, pyhis.py and funcs.py are needed in the working directory for this script ###\n",
    "import pyhis\n",
    "import funcs\n",
    "import pandas as pd\n",
    "import numpy as np\n",
    "import matplotlib.pyplot as plt\n",
    "from suds.client import Client"
   ]
  },
  {
   "cell_type": "code",
   "execution_count": null,
   "id": "c9303e60-8503-430f-8c6b-0cab99b9eb00",
   "metadata": {},
   "outputs": [],
   "source": [
    "serv = pyhis.Services()"
   ]
  },
  {
   "cell_type": "code",
   "execution_count": null,
   "id": "b120a34d-c315-4a64-ab94-3253ca564b5d",
   "metadata": {
    "scrolled": true
   },
   "outputs": [],
   "source": [
    "### Specify bounding area for watershed of interest ###\n",
    "minlat = 35.966999\n",
    "maxlat = 36.7006926958913\n",
    "minlon = -118.578979\n",
    "maxlon = -118.267685\n",
    "\n",
    "sites = serv.get_sites(minlon, minlat, maxlon, maxlat)"
   ]
  },
  {
   "cell_type": "code",
   "execution_count": null,
   "id": "89730134-2491-4805-af61-70dd139f9754",
   "metadata": {},
   "outputs": [],
   "source": [
    "### Previewing available networks ###\n",
    "set(sites.servCode)"
   ]
  },
  {
   "cell_type": "code",
   "execution_count": null,
   "id": "7475ff34-f620-4b6f-aa51-b22149697c06",
   "metadata": {},
   "outputs": [],
   "source": [
    "### Fetching server URL for data network ###\n",
    "sites[sites.servCode=='CDEC'].iloc[0].servURL"
   ]
  },
  {
   "cell_type": "code",
   "execution_count": null,
   "id": "546c79fa-11cf-47ee-9b6a-666ea0025424",
   "metadata": {},
   "outputs": [],
   "source": [
    "### Retrieving available site codes ###\n",
    "sites[sites.servCode=='CDEC'].SiteCode"
   ]
  },
  {
   "cell_type": "code",
   "execution_count": null,
   "id": "0c71ad98-427f-4a3e-9f13-cf44edd2641c",
   "metadata": {
    "scrolled": true
   },
   "outputs": [],
   "source": [
    "### Specifying a link to the data ###\n",
    "url = 'https://hydroportal.cuahsi.org/CDEC/cuahsi_1_1.asmx'   # url = sites.iloc[0].servURL\n",
    "sitecode = 'CDEC:PSC'   #sitecode = sites.iloc[0].SiteCode"
   ]
  },
  {
   "cell_type": "code",
   "execution_count": null,
   "id": "a2a2bf9c-58fa-4ba8-ba1d-da58a0d3462a",
   "metadata": {},
   "outputs": [],
   "source": [
    "### Indexing SNOTEL station information ###\n",
    "site_info = serv.get_sites_info([url],[sitecode])\n",
    "site_info"
   ]
  },
  {
   "cell_type": "code",
   "execution_count": null,
   "id": "17122804-a056-4d06-9bb8-ec746b23ebe1",
   "metadata": {},
   "outputs": [],
   "source": [
    "### Specifying site variable information (SWE changes for some CDEC stations) ###\n",
    "var = site_info.iloc[3]\n",
    "var.siteid"
   ]
  },
  {
   "cell_type": "code",
   "execution_count": null,
   "id": "cef100ab-413b-411f-a819-f5638bae2df6",
   "metadata": {},
   "outputs": [],
   "source": [
    "### Creating a new instance of the soap class ###\n",
    "client = Client(f'{url}?wsdl')"
   ]
  },
  {
   "cell_type": "code",
   "execution_count": null,
   "id": "bef45dbc-c026-4ad4-836f-79aa958dd635",
   "metadata": {},
   "outputs": [],
   "source": [
    "vals = client.service.GetValuesObject(var.siteid, var.variableCode, var.startdt, var.enddt)"
   ]
  },
  {
   "cell_type": "code",
   "execution_count": null,
   "id": "3829734a-a38c-4295-886c-72d24e994204",
   "metadata": {},
   "outputs": [],
   "source": [
    "dates = [] \n",
    "values = []\n",
    "for dat in vals.timeSeries[0].values[0][0]:\n",
    "    dates.append(dat['_dateTimeUTC'])\n",
    "    values.append(float(dat['value']))"
   ]
  },
  {
   "cell_type": "code",
   "execution_count": null,
   "id": "2abae486-5b3e-4214-8f4b-797ecf80980e",
   "metadata": {},
   "outputs": [],
   "source": [
    "### Creating the DataFrame ###\n",
    "df = pd.DataFrame({'date':dates, f'{var.variableName}':values})\n",
    "\n",
    "### Converting UTC to Pandas DateTime ###\n",
    "df['date'] = pd.to_datetime(df['date'], utc=True)\n",
    "\n",
    "start_date = '2020-10-01'\n",
    "end_date = '2023-09-30'\n",
    "mask = (df['date'] >= start_date) & (df['date'] <= end_date)\n",
    "sliced_df = df.loc[mask]\n",
    "\n",
    "sliced_df"
   ]
  },
  {
   "cell_type": "code",
   "execution_count": null,
   "id": "2bfe83bb-4447-4337-8a61-9a07f731d556",
   "metadata": {
    "scrolled": true
   },
   "outputs": [],
   "source": [
    "### Data Cleaning ###\n",
    "\n",
    "#sliced_df.loc[sliced_df['Snow water equivalent'] == -9999.0, 'Snow water equivalent'] = 0\n",
    "sliced_df = sliced_df.drop(sliced_df[sliced_df['Snow water equivalent'] == -9999.0].index)\n",
    "\n",
    "\n",
    "print(sliced_df)"
   ]
  },
  {
   "cell_type": "code",
   "execution_count": null,
   "id": "b84354d4-4950-4716-bc21-da0a09f79ca4",
   "metadata": {},
   "outputs": [],
   "source": [
    "### Change Station Name ###\n",
    "sliced_PSC = (sliced_df.copy())"
   ]
  },
  {
   "cell_type": "code",
   "execution_count": null,
   "id": "86b2d1e2-c607-49cb-9b37-5cc520f97900",
   "metadata": {},
   "outputs": [],
   "source": [
    "### Saving DataFrame to .csv ###\n",
    "sliced_UTY.to_csv('CBT-SWE.csv')"
   ]
  },
  {
   "cell_type": "code",
   "execution_count": null,
   "id": "54b31250-b7be-420c-8a9b-afa0158ed9ac",
   "metadata": {},
   "outputs": [],
   "source": [
    "### Function for April 1st SWE x-labels ###\n",
    "def water_year_labels(dates):\n",
    "    labels = []\n",
    "    for date in dates:\n",
    "        if date.month >= 10:  # Water year starts in October\n",
    "            labels.append(f'WY-{date.year + 1}')\n",
    "        else:\n",
    "            labels.append(f'WY-{date.year}')\n",
    "    return labels\n",
    "\n",
    "### April 1st SWE x-labels ###\n",
    "xticks_dates = pd.to_datetime(['2021-04-01', '2022-04-01', '2023-04-01'])\n",
    "xticks_labels = ['April 1st, 2021', 'April 1st, 2022', 'April 1st, 2023']\n",
    "\n",
    "### Plotting ###\n",
    "plt.figure(figsize=(18, 6))\n",
    "plt.plot(sliced_UTY['date'], sliced_UTY['Snow water equivalent'] * 2.54, color='k', linestyle='-', alpha=0.8, label='Upper Tyndall Creek (UTY)')\n",
    "plt.plot(sliced_CSV['date'], sliced_CSV['Snow water equivalent'] * 2.54, color='k', linestyle='--', alpha=0.8, label='Casa Vieja Meadows (CSV)')\n",
    "plt.plot(sliced_PSC['date'], sliced_PSC['Snow water equivalent'] * 2.54, color='k', linestyle='dotted', alpha=0.8, label='Pascoes (PSC)')\n",
    "\n",
    "plt.ylabel('SWE (cm)', fontsize=15)\n",
    "plt.xticks(ticks=xticks_dates, labels=xticks_labels, fontsize=15)\n",
    "plt.yticks(fontsize=15)\n",
    "\n",
    "plt.legend(fontsize=13)\n",
    "#plt.title('Peak snow water equivalent, upper Kern River watershed', fontsize=14)\n",
    "plt.savefig('SWE-SSN', bbox_inches='tight', dpi=300)\n",
    "plt.show()"
   ]
  }
 ],
 "metadata": {
  "kernelspec": {
   "display_name": "Python 3 (ipykernel)",
   "language": "python",
   "name": "python3"
  },
  "language_info": {
   "codemirror_mode": {
    "name": "ipython",
    "version": 3
   },
   "file_extension": ".py",
   "mimetype": "text/x-python",
   "name": "python",
   "nbconvert_exporter": "python",
   "pygments_lexer": "ipython3",
   "version": "3.8.19"
  }
 },
 "nbformat": 4,
 "nbformat_minor": 5
}
